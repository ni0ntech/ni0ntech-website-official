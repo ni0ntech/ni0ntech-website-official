{
 "cells": [
  {
   "cell_type": "markdown",
   "id": "99e95847",
   "metadata": {},
   "source": [
    "# Resume Analyzer\n",
    "\n",
    "This is a demo notebook for the **Resume Analyzer** project."
   ]
  },
  {
   "cell_type": "code",
   "execution_count": null,
   "id": "6a402a4d",
   "metadata": {},
   "outputs": [],
   "source": [
    "# Sample Python code\n",
    "def hello():\n",
    "    return 'Hello from notebook!'"
   ]
  }
 ],
 "metadata": {},
 "nbformat": 4,
 "nbformat_minor": 5
}