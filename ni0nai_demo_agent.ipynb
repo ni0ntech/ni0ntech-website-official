{
 "cells": [
  {
   "cell_type": "markdown",
   "id": "57477750",
   "metadata": {},
   "source": [
    "# ni0n.ai Demo Agent\n",
    "\n",
    "This is a demo notebook for the **ni0n.ai Demo Agent** project."
   ]
  },
  {
   "cell_type": "code",
   "execution_count": null,
   "id": "81b5b942",
   "metadata": {},
   "outputs": [],
   "source": [
    "# Sample Python code\n",
    "def hello():\n",
    "    return 'Hello from notebook!'"
   ]
  }
 ],
 "metadata": {},
 "nbformat": 4,
 "nbformat_minor": 5
}