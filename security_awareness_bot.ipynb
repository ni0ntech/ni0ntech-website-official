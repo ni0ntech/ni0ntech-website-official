{
 "cells": [
  {
   "cell_type": "markdown",
   "id": "b6e647fd",
   "metadata": {},
   "source": [
    "# Security Awareness Bot\n",
    "\n",
    "This is a demo notebook for the **Security Awareness Bot** project."
   ]
  },
  {
   "cell_type": "code",
   "execution_count": null,
   "id": "2cfa8d48",
   "metadata": {},
   "outputs": [],
   "source": [
    "# Sample Python code\n",
    "def hello():\n",
    "    return 'Hello from notebook!'"
   ]
  }
 ],
 "metadata": {},
 "nbformat": 4,
 "nbformat_minor": 5
}