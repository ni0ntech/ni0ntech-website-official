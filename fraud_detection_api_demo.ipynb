{
 "cells": [
  {
   "cell_type": "markdown",
   "id": "32644526",
   "metadata": {},
   "source": [
    "# Fraud Detection API\n",
    "\n",
    "*ni0ntech Project Demo Notebook*"
   ]
  },
  {
   "cell_type": "markdown",
   "id": "5d892d32",
   "metadata": {},
   "source": [
    "\n",
    "**Project Description**  \n",
    "This notebook demonstrates the core logic behind a fraud detection microservice API.  \n",
    "We simulate transaction data, build a machine learning model, and wrap it with a minimal FastAPI interface.\n",
    "\n",
    "**Tech Stack:**  \n",
    "- Python  \n",
    "- Scikit-learn  \n",
    "- Pandas  \n",
    "- FastAPI  \n",
    "- Uvicorn\n",
    "    "
   ]
  },
  {
   "cell_type": "code",
   "execution_count": null,
   "id": "3f4e4d1e",
   "metadata": {},
   "outputs": [],
   "source": [
    "\n",
    "# Step 1: Generate Simulated Transaction Data\n",
    "import pandas as pd\n",
    "import numpy as np\n",
    "\n",
    "np.random.seed(42)\n",
    "\n",
    "n = 1000\n",
    "data = pd.DataFrame({\n",
    "    'amount': np.random.gamma(shape=2, scale=100, size=n),\n",
    "    'is_foreign': np.random.choice([0, 1], size=n, p=[0.85, 0.15]),\n",
    "    'is_high_risk_country': np.random.choice([0, 1], size=n, p=[0.9, 0.1]),\n",
    "    'transaction_hour': np.random.randint(0, 24, size=n),\n",
    "    'label': np.random.choice([0, 1], size=n, p=[0.95, 0.05])\n",
    "})\n",
    "\n",
    "data.head()\n",
    "    "
   ]
  },
  {
   "cell_type": "code",
   "execution_count": null,
   "id": "3b22d5dd",
   "metadata": {},
   "outputs": [],
   "source": [
    "\n",
    "# Step 2: Train a simple model\n",
    "from sklearn.model_selection import train_test_split\n",
    "from sklearn.ensemble import RandomForestClassifier\n",
    "from sklearn.metrics import classification_report\n",
    "\n",
    "X = data.drop('label', axis=1)\n",
    "y = data['label']\n",
    "\n",
    "X_train, X_test, y_train, y_test = train_test_split(X, y, test_size=0.2, stratify=y)\n",
    "\n",
    "model = RandomForestClassifier(n_estimators=100, random_state=42)\n",
    "model.fit(X_train, y_train)\n",
    "\n",
    "y_pred = model.predict(X_test)\n",
    "print(classification_report(y_test, y_pred))\n",
    "    "
   ]
  },
  {
   "cell_type": "code",
   "execution_count": null,
   "id": "a40164cf",
   "metadata": {},
   "outputs": [],
   "source": [
    "\n",
    "# Step 3: Minimal FastAPI wrapper\n",
    "from fastapi import FastAPI\n",
    "from pydantic import BaseModel\n",
    "import uvicorn\n",
    "\n",
    "app = FastAPI()\n",
    "\n",
    "class Transaction(BaseModel):\n",
    "    amount: float\n",
    "    is_foreign: int\n",
    "    is_high_risk_country: int\n",
    "    transaction_hour: int\n",
    "\n",
    "@app.post(\"/predict\")\n",
    "def predict(tx: Transaction):\n",
    "    features = [[\n",
    "        tx.amount,\n",
    "        tx.is_foreign,\n",
    "        tx.is_high_risk_country,\n",
    "        tx.transaction_hour\n",
    "    ]]\n",
    "    prediction = model.predict(features)[0]\n",
    "    return {\"fraud\": bool(prediction)}\n",
    "\n",
    "# Run with: uvicorn notebook:app --reload\n",
    "    "
   ]
  },
  {
   "cell_type": "markdown",
   "id": "11cf1bdd",
   "metadata": {},
   "source": [
    "\n",
    "---\n",
    "\n",
    "*Styled to match ni0ntech color scheme (dark background, bronze and electric blue accents).*\n",
    "This project represents a lightweight, deployable component you could plug into a broader financial fraud detection ecosystem.\n",
    "    "
   ]
  }
 ],
 "metadata": {},
 "nbformat": 4,
 "nbformat_minor": 5
}
